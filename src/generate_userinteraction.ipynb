{
 "cells": [
  {
   "cell_type": "code",
   "execution_count": 3,
   "id": "437c8fbd",
   "metadata": {},
   "outputs": [
    {
     "ename": "KeyboardInterrupt",
     "evalue": "",
     "output_type": "error",
     "traceback": [
      "\u001b[31m---------------------------------------------------------------------------\u001b[39m",
      "\u001b[31mKeyboardInterrupt\u001b[39m                         Traceback (most recent call last)",
      "\u001b[36mCell\u001b[39m\u001b[36m \u001b[39m\u001b[32mIn[3]\u001b[39m\u001b[32m, line 26\u001b[39m\n\u001b[32m     24\u001b[39m n_plays = np.random.randint(\u001b[32m10\u001b[39m, \u001b[32m50\u001b[39m)  \u001b[38;5;66;03m# Прослушивания\u001b[39;00m\n\u001b[32m     25\u001b[39m \u001b[38;5;28;01mfor\u001b[39;00m _ \u001b[38;5;129;01min\u001b[39;00m \u001b[38;5;28mrange\u001b[39m(n_plays):\n\u001b[32m---> \u001b[39m\u001b[32m26\u001b[39m     item = np.random.choice(user_tracks)\n\u001b[32m     27\u001b[39m     rel = np.random.randint(\u001b[32m1\u001b[39m, \u001b[32m6\u001b[39m)  \u001b[38;5;66;03m# Рейтинг\u001b[39;00m\n\u001b[32m     28\u001b[39m     ts = start_date + timedelta(days=np.random.randint(\u001b[32m0\u001b[39m, \u001b[32m365\u001b[39m*\u001b[32m2\u001b[39m))\n",
      "\u001b[36mFile \u001b[39m\u001b[32mnumpy\\\\random\\\\mtrand.pyx:998\u001b[39m, in \u001b[36mnumpy.random.mtrand.RandomState.choice\u001b[39m\u001b[34m()\u001b[39m\n",
      "\u001b[36mFile \u001b[39m\u001b[32mnumpy\\\\random\\\\mtrand.pyx:780\u001b[39m, in \u001b[36mnumpy.random.mtrand.RandomState.randint\u001b[39m\u001b[34m()\u001b[39m\n",
      "\u001b[36mFile \u001b[39m\u001b[32mnumpy\\\\random\\\\_bounded_integers.pyx:2847\u001b[39m, in \u001b[36mnumpy.random._bounded_integers._rand_int32\u001b[39m\u001b[34m()\u001b[39m\n",
      "\u001b[36mFile \u001b[39m\u001b[32mc:\\Users\\mypc\\Code\\venv\\Lib\\site-packages\\numpy\\core\\fromnumeric.py:2979\u001b[39m, in \u001b[36mprod\u001b[39m\u001b[34m(a, axis, dtype, out, keepdims, initial, where)\u001b[39m\n\u001b[32m   2974\u001b[39m \u001b[38;5;28;01mdef\u001b[39;00m\u001b[38;5;250m \u001b[39m\u001b[34m_prod_dispatcher\u001b[39m(a, axis=\u001b[38;5;28;01mNone\u001b[39;00m, dtype=\u001b[38;5;28;01mNone\u001b[39;00m, out=\u001b[38;5;28;01mNone\u001b[39;00m, keepdims=\u001b[38;5;28;01mNone\u001b[39;00m,\n\u001b[32m   2975\u001b[39m                      initial=\u001b[38;5;28;01mNone\u001b[39;00m, where=\u001b[38;5;28;01mNone\u001b[39;00m):\n\u001b[32m   2976\u001b[39m     \u001b[38;5;28;01mreturn\u001b[39;00m (a, out)\n\u001b[32m-> \u001b[39m\u001b[32m2979\u001b[39m \u001b[38;5;129m@array_function_dispatch\u001b[39m(_prod_dispatcher)\n\u001b[32m   2980\u001b[39m \u001b[38;5;28;01mdef\u001b[39;00m\u001b[38;5;250m \u001b[39m\u001b[34mprod\u001b[39m(a, axis=\u001b[38;5;28;01mNone\u001b[39;00m, dtype=\u001b[38;5;28;01mNone\u001b[39;00m, out=\u001b[38;5;28;01mNone\u001b[39;00m, keepdims=np._NoValue,\n\u001b[32m   2981\u001b[39m          initial=np._NoValue, where=np._NoValue):\n\u001b[32m   2982\u001b[39m \u001b[38;5;250m    \u001b[39m\u001b[33;03m\"\"\"\u001b[39;00m\n\u001b[32m   2983\u001b[39m \u001b[33;03m    Return the product of array elements over a given axis.\u001b[39;00m\n\u001b[32m   2984\u001b[39m \n\u001b[32m   (...)\u001b[39m\u001b[32m   3098\u001b[39m \u001b[33;03m    10\u001b[39;00m\n\u001b[32m   3099\u001b[39m \u001b[33;03m    \"\"\"\u001b[39;00m\n\u001b[32m   3100\u001b[39m     \u001b[38;5;28;01mreturn\u001b[39;00m _wrapreduction(a, np.multiply, \u001b[33m'\u001b[39m\u001b[33mprod\u001b[39m\u001b[33m'\u001b[39m, axis, dtype, out,\n\u001b[32m   3101\u001b[39m                           keepdims=keepdims, initial=initial, where=where)\n",
      "\u001b[31mKeyboardInterrupt\u001b[39m: "
     ]
    }
   ],
   "source": [
    "from sklearn.cluster import KMeans\n",
    "import numpy as np\n",
    "from datetime import datetime, timedelta\n",
    "\n",
    "import pandas as pd\n",
    "\n",
    "\n",
    "df_tracks = pd.read_csv('data.csv')  # Или создайте из таблицы\n",
    "# Пример: df_tracks.head() покажет ваши колонки (genre, artist_name и т.д.)\n",
    "\n",
    "# Кластеризация треков (для реализма)\n",
    "features = df_tracks[['acousticness', 'danceability', 'energy', 'valence']].values\n",
    "kmeans = KMeans(n_clusters=10, random_state=42)\n",
    "df_tracks['cluster'] = kmeans.fit_predict(features)\n",
    "\n",
    "# Генерация взаимодействий\n",
    "n_users = 1000\n",
    "interactions = []\n",
    "start_date = datetime(2020, 1, 1)\n",
    "for user in range(1, n_users + 1):\n",
    "    # Выберите кластеры для пользователя (предпочтения)\n",
    "    user_clusters = np.random.choice(range(10), size=3, replace=False)\n",
    "    user_tracks = df_tracks[df_tracks['cluster'].isin(user_clusters)]['track_id'].tolist()\n",
    "    n_plays = np.random.randint(10, 50)  # Прослушивания\n",
    "    for _ in range(n_plays):\n",
    "        item = np.random.choice(user_tracks)\n",
    "        rel = np.random.randint(1, 6)  # Рейтинг\n",
    "        ts = start_date + timedelta(days=np.random.randint(0, 365*2))\n",
    "        interactions.append({'user_id': user, 'item_id': item, 'relevance': rel, 'timestamp': ts})\n",
    "\n",
    "df_interactions = pd.DataFrame(interactions)\n",
    "df_interactions['timestamp'] = pd.to_datetime(df_interactions['timestamp']).astype('int64') // 10**9  # Unix timestamp\n",
    "# Сохраните: df_interactions.to_csv('interactions.csv', index=False)"
   ]
  }
 ],
 "metadata": {
  "kernelspec": {
   "display_name": "venv",
   "language": "python",
   "name": "python3"
  },
  "language_info": {
   "codemirror_mode": {
    "name": "ipython",
    "version": 3
   },
   "file_extension": ".py",
   "mimetype": "text/x-python",
   "name": "python",
   "nbconvert_exporter": "python",
   "pygments_lexer": "ipython3",
   "version": "3.11.9"
  }
 },
 "nbformat": 4,
 "nbformat_minor": 5
}
